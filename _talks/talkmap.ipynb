{
 "cells": [
  {
   "cell_type": "markdown",
   "metadata": {},
   "source": [
    "# Leaflet cluster map of talk locations\n",
    "\n",
    "Run this from the _talks/ directory, which contains .md files of all your talks. This scrapes the location YAML field from each .md file, geolocates it with geopy/Nominatim, and uses the getorg library to output data, HTML, and Javascript for a standalone cluster map."
   ]
  },
  {
   "cell_type": "code",
   "execution_count": 1,
   "metadata": {
    "collapsed": false
   },
   "outputs": [
    {
     "output_type": "stream",
     "name": "stdout",
     "text": "Requirement already up-to-date: getorg in /Users/mikhailgasanov/opt/anaconda3/lib/python3.7/site-packages (0.3.1)\nRequirement already satisfied, skipping upgrade: retrying in /Users/mikhailgasanov/opt/anaconda3/lib/python3.7/site-packages (from getorg) (1.3.3)\nRequirement already satisfied, skipping upgrade: pygithub in /Users/mikhailgasanov/opt/anaconda3/lib/python3.7/site-packages (from getorg) (1.47)\nRequirement already satisfied, skipping upgrade: geopy in /Users/mikhailgasanov/opt/anaconda3/lib/python3.7/site-packages (from getorg) (1.21.0)\nRequirement already satisfied, skipping upgrade: six>=1.7.0 in /Users/mikhailgasanov/opt/anaconda3/lib/python3.7/site-packages (from retrying->getorg) (1.14.0)\nRequirement already satisfied, skipping upgrade: deprecated in /Users/mikhailgasanov/opt/anaconda3/lib/python3.7/site-packages (from pygithub->getorg) (1.2.8)\nRequirement already satisfied, skipping upgrade: pyjwt in /Users/mikhailgasanov/opt/anaconda3/lib/python3.7/site-packages (from pygithub->getorg) (1.7.1)\nRequirement already satisfied, skipping upgrade: requests>=2.14.0 in /Users/mikhailgasanov/opt/anaconda3/lib/python3.7/site-packages (from pygithub->getorg) (2.23.0)\nRequirement already satisfied, skipping upgrade: geographiclib<2,>=1.49 in /Users/mikhailgasanov/opt/anaconda3/lib/python3.7/site-packages (from geopy->getorg) (1.50)\nRequirement already satisfied, skipping upgrade: wrapt<2,>=1.10 in /Users/mikhailgasanov/opt/anaconda3/lib/python3.7/site-packages (from deprecated->pygithub->getorg) (1.12.1)\nRequirement already satisfied, skipping upgrade: chardet<4,>=3.0.2 in /Users/mikhailgasanov/opt/anaconda3/lib/python3.7/site-packages (from requests>=2.14.0->pygithub->getorg) (3.0.4)\nRequirement already satisfied, skipping upgrade: idna<3,>=2.5 in /Users/mikhailgasanov/opt/anaconda3/lib/python3.7/site-packages (from requests>=2.14.0->pygithub->getorg) (2.9)\nRequirement already satisfied, skipping upgrade: certifi>=2017.4.17 in /Users/mikhailgasanov/opt/anaconda3/lib/python3.7/site-packages (from requests>=2.14.0->pygithub->getorg) (2020.4.5.1)\nRequirement already satisfied, skipping upgrade: urllib3!=1.25.0,!=1.25.1,<1.26,>=1.21.1 in /Users/mikhailgasanov/opt/anaconda3/lib/python3.7/site-packages (from requests>=2.14.0->pygithub->getorg) (1.25.7)\nIPywidgets and ipyleaflet support enabled.\n"
    }
   ],
   "source": [
    "!pip install getorg --upgrade\n",
    "import glob\n",
    "import getorg\n",
    "from geopy import Nominatim"
   ]
  },
  {
   "cell_type": "code",
   "execution_count": 5,
   "metadata": {
    "collapsed": false
   },
   "outputs": [],
   "source": [
    "g = glob.glob(\"*.md\")"
   ]
  },
  {
   "cell_type": "code",
   "execution_count": 6,
   "metadata": {
    "collapsed": true
   },
   "outputs": [],
   "source": [
    "geocoder = Nominatim()\n",
    "location_dict = {}\n",
    "location = \"\"\n",
    "permalink = \"\"\n",
    "title = \"\""
   ]
  },
  {
   "cell_type": "code",
   "execution_count": 7,
   "metadata": {
    "collapsed": false
   },
   "outputs": [
    {
     "output_type": "stream",
     "name": "stdout",
     "text": "Moscow, Russia \n Москва, Центральный федеральный округ, Россия\nGhent, Belgium \n Gent, Oost-Vlaanderen, Vlaanderen, België - Belgique - Belgien\nWageningen, Netherlands \n Wageningen, Gelderland, Nederland\n"
    }
   ],
   "source": [
    "\n",
    "for file in g:\n",
    "    with open(file, 'r') as f:\n",
    "        lines = f.read()\n",
    "        if lines.find('location: \"') > 1:\n",
    "            loc_start = lines.find('location: \"') + 11\n",
    "            lines_trim = lines[loc_start:]\n",
    "            loc_end = lines_trim.find('\"')\n",
    "            location = lines_trim[:loc_end]\n",
    "                            \n",
    "           \n",
    "        location_dict[location] = geocoder.geocode(location)\n",
    "        print(location, \"\\n\", location_dict[location])\n",
    ""
   ]
  },
  {
   "cell_type": "code",
   "execution_count": 8,
   "metadata": {
    "collapsed": false
   },
   "outputs": [
    {
     "output_type": "execute_result",
     "data": {
      "text/plain": "'Written map to ../talkmap/'"
     },
     "metadata": {},
     "execution_count": 8
    }
   ],
   "source": [
    "m = getorg.orgmap.create_map_obj()\n",
    "getorg.orgmap.output_html_cluster_map(location_dict, folder_name=\"../talkmap\", hashed_usernames=False)"
   ]
  },
  {
   "cell_type": "code",
   "execution_count": null,
   "metadata": {
    "collapsed": true
   },
   "outputs": [],
   "source": []
  }
 ],
 "metadata": {
  "anaconda-cloud": {},
  "kernelspec": {
   "display_name": "Python 3",
   "language": "python",
   "name": "python3"
  },
  "language_info": {
   "codemirror_mode": {
    "name": "ipython",
    "version": 3
   },
   "file_extension": ".py",
   "mimetype": "text/x-python",
   "name": "python",
   "nbconvert_exporter": "python",
   "pygments_lexer": "ipython3",
   "version": "3.7.4-final"
  }
 },
 "nbformat": 4,
 "nbformat_minor": 0
}